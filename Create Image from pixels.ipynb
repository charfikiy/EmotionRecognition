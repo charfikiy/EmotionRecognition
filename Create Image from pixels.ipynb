{
 "cells": [
  {
   "cell_type": "code",
   "execution_count": 79,
   "metadata": {
    "collapsed": false
   },
   "outputs": [
    {
     "name": "stdout",
     "output_type": "stream",
     "text": [
      "end\n"
     ]
    }
   ],
   "source": [
    "import pandas as pd\n",
    "import numpy as np\n",
    "import cv2\n",
    "from PIL import Image\n",
    "\n",
    "FILE_PATH = 'fer2013.csv'\n",
    "data = pd.read_csv(FILE_PATH)\n",
    "for i in data.iterrows():\n",
    "    if(i[0]==0):\n",
    "        pixels = str(i[1]['pixels'])\n",
    "    else:\n",
    "        break\n",
    "\n",
    "pixels = np.fromstring(pixels, dtype=np.uint8, sep=' ')\n",
    "\n",
    "pixels = list(map(int, pixels))\n",
    "\n",
    "image = np.reshape(pixels,(48,48))\n",
    "\n",
    "width = 48\n",
    "height = 48\n",
    "size = width,height\n",
    "mode = 'RGB'\n",
    "\n",
    "img = Image.new(mode,size)      \n",
    "row = 0\n",
    "col = 0\n",
    "for pixel in pixels:    \n",
    "    colour=(int(pixel),int(pixel),int(pixel))\n",
    "    img.putpixel((row,col), colour)\n",
    "    row+=1              \n",
    "    if row >= width:         \n",
    "        row=0\n",
    "        col+=1\n",
    "        \n",
    "# save picture as fer2013_picturenumber_emotionclass\n",
    "imgfile='fer2013_face.png'\n",
    "img.save(imgfile,'png')\n",
    "\n",
    "print(\"end\")\n"
   ]
  },
  {
   "cell_type": "code",
   "execution_count": null,
   "metadata": {
    "collapsed": true
   },
   "outputs": [],
   "source": []
  },
  {
   "cell_type": "code",
   "execution_count": null,
   "metadata": {
    "collapsed": true
   },
   "outputs": [],
   "source": []
  },
  {
   "cell_type": "code",
   "execution_count": null,
   "metadata": {
    "collapsed": true
   },
   "outputs": [],
   "source": []
  },
  {
   "cell_type": "code",
   "execution_count": null,
   "metadata": {
    "collapsed": true
   },
   "outputs": [],
   "source": []
  }
 ],
 "metadata": {
  "kernelspec": {
   "display_name": "Python [default]",
   "language": "python",
   "name": "python3"
  },
  "language_info": {
   "codemirror_mode": {
    "name": "ipython",
    "version": 3
   },
   "file_extension": ".py",
   "mimetype": "text/x-python",
   "name": "python",
   "nbconvert_exporter": "python",
   "pygments_lexer": "ipython3",
   "version": "3.5.2"
  }
 },
 "nbformat": 4,
 "nbformat_minor": 2
}
