{
 "cells": [
  {
   "cell_type": "code",
   "execution_count": 35,
   "metadata": {
    "collapsed": false
   },
   "outputs": [
    {
     "name": "stdout",
     "output_type": "stream",
     "text": [
      "[[231 233 232 ..., 212 214 209]]\n",
      "end\n"
     ]
    }
   ],
   "source": [
    "import pandas as pd\n",
    "import numpy as np\n",
    "import cv2\n",
    "from PIL import Image\n",
    "\n",
    "images_train = np.load(\"RafD/images_train.npy\")\n",
    "\n",
    "pixels = images_train[1406][0]\n",
    "\n",
    "width = 48\n",
    "height = 48\n",
    "size = width,height\n",
    "mode = 'L'\n",
    "\n",
    "img = Image.new(mode,size)      \n",
    "row = 0\n",
    "col = 0\n",
    "\n",
    "for pixel in pixels:  \n",
    "    #print(pixel)\n",
    "    img.putpixel((row,col),int(pixel))\n",
    "    row+=1              \n",
    "    if row >= width:         \n",
    "        row=0\n",
    "        col+=1\n",
    "        \n",
    "# save picture as fer2013_picturenumber_emotionclass\n",
    "imgfile='fer2013_face.png'\n",
    "img.save(imgfile,'png')\n",
    "\n",
    "print(\"end\")\n"
   ]
  }
 ],
 "metadata": {
  "kernelspec": {
   "display_name": "Python [default]",
   "language": "python",
   "name": "python3"
  },
  "language_info": {
   "codemirror_mode": {
    "name": "ipython",
    "version": 3
   },
   "file_extension": ".py",
   "mimetype": "text/x-python",
   "name": "python",
   "nbconvert_exporter": "python",
   "pygments_lexer": "ipython3",
   "version": "3.5.2"
  }
 },
 "nbformat": 4,
 "nbformat_minor": 2
}
