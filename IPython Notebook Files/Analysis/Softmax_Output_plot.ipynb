{
 "cells": [
  {
   "cell_type": "code",
   "execution_count": 1,
   "metadata": {
    "collapsed": false
   },
   "outputs": [
    {
     "name": "stdout",
     "output_type": "stream",
     "text": [
      "curses is not supported on this machine (please install/reinstall curses for an optimal experience)\n",
      "loaded network\n",
      "34  19  1  27  0  16  "
     ]
    },
    {
     "data": {
      "image/png": "[encoded data removed]",
      "text/plain": [
       "<matplotlib.figure.Figure at 0x20d68d51588>"
      ]
     },
     "metadata": {},
     "output_type": "display_data"
    },
    {
     "data": {
      "image/png": "[encoded data removed]",
      "text/plain": [
       "<matplotlib.figure.Figure at 0x20d68f3d390>"
      ]
     },
     "metadata": {},
     "output_type": "display_data"
    }
   ],
   "source": [
    "import pandas as pd\n",
    "import numpy as np\n",
    "import cv2\n",
    "from PIL import Image\n",
    "import matplotlib.pyplot as plt\n",
    "import matplotlib.cm as cm\n",
    "\n",
    "import tensorflow\n",
    "import tflearn\n",
    "import numpy as np\n",
    "import six\n",
    "from tflearn import *\n",
    "\n",
    "EMOTIONS = ['angry','fearful', 'happy', 'sad', 'surprised', 'neutral']\n",
    "def network():\n",
    "    network = input_data(shape=[None, 48, 48, 1])\n",
    "\n",
    "    network = conv_2d(network, 32, 3, activation='relu')\n",
    "    network = conv_2d(network, 32, 5, activation='relu')\n",
    "    network = max_pool_2d(network, 2, strides=2)\n",
    "    network = dropout(network, 0.3)\n",
    "    network = local_response_normalization(network)\n",
    "    network = conv_2d(network, 64, 3, activation='relu')\n",
    "    network = conv_2d(network, 64, 5, activation='relu')\n",
    "    network = max_pool_2d(network, 2, strides=2)\n",
    "    network = dropout(network, 0.3)\n",
    "    network = local_response_normalization(network)\n",
    "    network = conv_2d(network, 128, 3, activation='relu')\n",
    "    network = conv_2d(network, 128, 5, activation='relu') \n",
    "    network = max_pool_2d(network, 2, strides=2)\n",
    "    network = dropout(network, 0.3)\n",
    "    network = local_response_normalization(network)\n",
    "    network = fully_connected(network, 1024, activation='relu')\n",
    "    network = dropout(network, 0.7)  # need to change if needed 0.7 -> 0.5\n",
    "    network = fully_connected(network, 1024, activation='relu')\n",
    "    network = dropout(network, 0.7)  # need to change if needed 0.7 -> 0.5\n",
    "    network = fully_connected(network, len(EMOTIONS), activation='softmax')\n",
    "\n",
    "    network = regression(network,\n",
    "                         optimizer='adam',\n",
    "                         loss='categorical_crossentropy',\n",
    "                         learning_rate=0.001)  # need to check with different learning rate\n",
    "\n",
    "    model = tflearn.DNN(network, tensorboard_verbose=3)\n",
    "    return model\n",
    "\n",
    "def getrawnetwork():\n",
    "    return network()\n",
    "\n",
    "def getsavednetwork(savepath='../../SavedModels/model_2b0.tfl'):\n",
    "    model = getrawnetwork()\n",
    "    model.load(savepath)\n",
    "    return model\n",
    "    \n",
    "    \n",
    "model = getsavednetwork()\n",
    "print(\"loaded network\")\n",
    "\n",
    "\n",
    "images_train = np.load(\"../../RafD/RaFD_images_train.npy\")\n",
    "pixels = images_train[105][0]/255\n",
    "\n",
    "image48 = pixels.reshape(1, 48, 48, 1)\n",
    "\n",
    "result = model.predict(image48)\n",
    "EMOTIONS = ['angry','fearful', 'happy', 'sad', 'surprised', 'neutral']\n",
    "plt.xlabel(EMOTIONS[result[0].index(max(result[0]))], color='#53b3cb',fontsize=12)\n",
    "plt.imshow(image48.reshape(48,48), cmap = cm.gray)\n",
    "\n",
    "for i in result[0]:\n",
    "    print(int(i*100),end=\"  \")\n",
    "\n",
    "fig = plt.figure(figsize=(20,20))\n",
    "#input_img = X[i:(i+1),:,:,:]\n",
    "ax = fig.add_subplot(6,6,1)\n",
    "y_prob = np.array(result[0])\n",
    "ax.bar(np.arange(0,6), y_prob, color=['red','blue','green','black','yellow','orange'],alpha=0.5)\n",
    "ax.set_xticks(np.arange(0.0,6.5,1))\n",
    "ax.set_xticklabels(EMOTIONS, rotation=90, fontsize=10)\n",
    "ax.set_yticks(np.arange(0.0,1.1,0.5))\n",
    "plt.tight_layout() \n",
    "plt.show()"
   ]
  }
 ],
 "metadata": {
  "kernelspec": {
   "display_name": "Python [default]",
   "language": "python",
   "name": "python3"
  },
  "language_info": {
   "codemirror_mode": {
    "name": "ipython",
    "version": 3
   },
   "file_extension": ".py",
   "mimetype": "text/x-python",
   "name": "python",
   "nbconvert_exporter": "python",
   "pygments_lexer": "ipython3",
   "version": "3.5.2"
  }
 },
 "nbformat": 4,
 "nbformat_minor": 2
}
