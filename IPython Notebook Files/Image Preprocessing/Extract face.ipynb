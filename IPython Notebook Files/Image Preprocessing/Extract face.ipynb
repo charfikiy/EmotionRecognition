{
 "cells": [
  {
   "cell_type": "code",
   "execution_count": 50,
   "metadata": {
    "collapsed": false
   },
   "outputs": [
    {
     "name": "stdout",
     "output_type": "stream",
     "text": [
      "number of faces in image( 1 ) :  1\n",
      "(48, 48)\n",
      "pixel values [[237 188 134 ..., 225 223 220]\n",
      " [230 181 149 ..., 225 226 223]\n",
      " [218 133  96 ..., 229 225 225]\n",
      " ..., \n",
      " [222 224 223 ..., 215 215 212]\n",
      " [220 224 221 ..., 212 214 214]\n",
      " [221 222 222 ..., 214 213 212]]\n"
     ]
    },
    {
     "data": {
      "image/png": "[encoded data removed]",
      "text/plain": [
       "<matplotlib.figure.Figure at 0x1f48105a278>"
      ]
     },
     "metadata": {},
     "output_type": "display_data"
    }
   ],
   "source": [
    "import cv2\n",
    "import os\n",
    "%matplotlib inline\n",
    "import matplotlib.pyplot as plt\n",
    "import matplotlib.cm as cm\n",
    "from PIL import Image\n",
    "\n",
    "number = 0\n",
    "\n",
    "def format_image(image):\n",
    "    global number\n",
    "    number += 1\n",
    "    if len(image.shape) > 2 and image.shape[2] == 3:\n",
    "        image = cv2.cvtColor(image, cv2.COLOR_BGR2GRAY)\n",
    "        clahe = cv2.createCLAHE(clipLimit=2.0, tileGridSize=(8, 8))\n",
    "        image = clahe.apply(image)\n",
    "    else:\n",
    "        image = cv2.imdecode(image, cv2.CV_LOAD_IMAGE_GRAYSCALE)\n",
    "    faces = cv2.CascadeClassifier('haarcascade_frontalface_default.xml').detectMultiScale(\n",
    "        image,\n",
    "        scaleFactor=1.3,\n",
    "        minNeighbors=5\n",
    "    )\n",
    "    \n",
    "    print(\"number of faces in image(\",number,\") : \",len(faces))\n",
    "    if not len(faces) > 0:\n",
    "        return None\n",
    "    max_area_face = faces[0]\n",
    "    for face in faces:\n",
    "        if face[2] * face[3] > max_area_face[2] * max_area_face[3]:\n",
    "            max_area_face = face\n",
    "    # Chop image to face\n",
    "    face = max_area_face\n",
    "    image = image[face[1]:(face[1] + face[2]), face[0]:(face[0] + face[3])]\n",
    "    # Resize image to network size\n",
    "    try:\n",
    "        image = cv2.resize(image, (48, 48), interpolation=cv2.INTER_CUBIC)\n",
    "        plt.figure()\n",
    "        plt.axis('off')\n",
    "        plt.imshow(image, cmap = 'gray')\n",
    "        return image\n",
    "    except Exception:\n",
    "        print(\"[+] Problem during resize\")\n",
    "        return None\n",
    "\n",
    "filename = \"../RafD/front/Rafd090_01_Caucasian_female_angry_frontal.jpg\"\n",
    "frame = cv2.imread(filename)\n",
    "resultImage = format_image(frame)\n",
    "print(\"pixel values\",resultImage)"
   ]
  }
 ],
 "metadata": {
  "kernelspec": {
   "display_name": "Python [default]",
   "language": "python",
   "name": "python3"
  },
  "language_info": {
   "codemirror_mode": {
    "name": "ipython",
    "version": 3
   },
   "file_extension": ".py",
   "mimetype": "text/x-python",
   "name": "python",
   "nbconvert_exporter": "python",
   "pygments_lexer": "ipython3",
   "version": "3.5.2"
  }
 },
 "nbformat": 4,
 "nbformat_minor": 2
}
