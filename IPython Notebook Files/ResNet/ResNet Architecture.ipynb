{
 "cells": [
  {
   "cell_type": "code",
   "execution_count": null,
   "metadata": {
    "collapsed": false
   },
   "outputs": [],
   "source": [
    "import tflearn\n",
    "tflearn.reset_default_graph()\n",
    "import os\n",
    "import numpy as np\n",
    "\n",
    "from tflearn.layers.core import input_data, dropout, fully_connected\n",
    "from tflearn.layers.conv import conv_2d, max_pool_2d\n",
    "from tflearn.layers.estimator import regression\n",
    "from tflearn.layers.normalization import local_response_normalization\n",
    "\n",
    "print(\"end\")"
   ]
  },
  {
   "cell_type": "code",
   "execution_count": null,
   "metadata": {
    "collapsed": false
   },
   "outputs": [],
   "source": [
    "if (os.path.exists('train_data.npy') is False) and (os.path.exists('train_label.npy') is False) and (os.path.exists(\n",
    "        'valid_data.npy') is False) and (os.path.exists('valid_label.npy') is False) and (os.path.exists(\n",
    "        'test_data.npy') is False) and (os.path.exists('test_label.npy') is False):\n",
    "    print(\"File not found!!\")\n",
    "    getImageData()\n",
    "\n",
    "X_train = np.load('train_data.npy')\n",
    "Y_train = np.load('train_label.npy')\n",
    "X_valid = np.load('valid_data.npy')\n",
    "Y_valid = np.load('valid_label.npy')\n",
    "X_test = np.load('test_data.npy')\n",
    "Y_test = np.load('test_label.npy')\n",
    "\n",
    "\n",
    "# reshape X for tf: N x w x h x c\n",
    "X_train = X_train.transpose((0, 2, 3, 1))\n",
    "X_valid = X_valid.transpose((0, 2, 3, 1))\n",
    "X_test = X_test.transpose((0, 2, 3, 1))\n",
    "\n",
    "EMOTIONS = ['angry', 'disgusted', 'fearful', 'happy', 'sad', 'surprised', 'neutral']\n",
    "print(\"end\")"
   ]
  },
  {
   "cell_type": "code",
   "execution_count": null,
   "metadata": {
    "collapsed": false
   },
   "outputs": [],
   "source": [
    "# Building Residual Network\n",
    "net = tflearn.input_data(shape=[None, 48, 48, 1])\n",
    "net = tflearn.conv_2d(net, 64, 5, activation='relu', bias=False)\n",
    "# Residual blocks\n",
    "net = tflearn.residual_bottleneck(net, 3, 16, 64)\n",
    "net = tflearn.residual_bottleneck(net, 1, 32, 128, downsample=True)\n",
    "net = tflearn.residual_bottleneck(net, 2, 32, 128)\n",
    "net = tflearn.residual_bottleneck(net, 1, 64, 256, downsample=True)\n",
    "net = tflearn.residual_bottleneck(net, 2, 64, 256)\n",
    "net = tflearn.batch_normalization(net)\n",
    "net = tflearn.activation(net, 'relu')\n",
    "net = tflearn.global_avg_pool(net)\n",
    "# Regression\n",
    "net = tflearn.fully_connected(net, 3072, activation='relu')\n",
    "net = tflearn.fully_connected(net, len(EMOTIONS), activation='softmax')\n",
    "\n",
    "net = tflearn.regression(net,\n",
    "                     optimizer='adam',\n",
    "                     loss='categorical_crossentropy',\n",
    "                     learning_rate=0.001)\n",
    "\n",
    "print(\"end\")"
   ]
  },
  {
   "cell_type": "code",
   "execution_count": null,
   "metadata": {
    "collapsed": false
   },
   "outputs": [],
   "source": [
    "model = tflearn.DNN(net, tensorboard_verbose=3)\n",
    "\n",
    "print(X_train.shape)\n",
    "print(Y_train.shape)\n",
    "\n",
    "model.fit(\n",
    "    X_train, Y_train,\n",
    "    validation_set=(X_valid, Y_valid),\n",
    "    n_epoch=1,\n",
    "    batch_size=50,\n",
    "    shuffle=True,\n",
    "    show_metric=True,\n",
    "    snapshot_step=200,\n",
    "    snapshot_epoch=True,\n",
    "    run_id='emotion_recognition'\n",
    ")\n",
    "print(\"end\")"
   ]
  }
 ],
 "metadata": {
  "kernelspec": {
   "display_name": "Python [default]",
   "language": "python",
   "name": "python3"
  },
  "language_info": {
   "codemirror_mode": {
    "name": "ipython",
    "version": 3
   },
   "file_extension": ".py",
   "mimetype": "text/x-python",
   "name": "python",
   "nbconvert_exporter": "python",
   "pygments_lexer": "ipython3",
   "version": "3.5.2"
  }
 },
 "nbformat": 4,
 "nbformat_minor": 2
}
