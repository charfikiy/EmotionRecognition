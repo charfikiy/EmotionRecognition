{
 "cells": [
  {
   "cell_type": "code",
   "execution_count": 1,
   "metadata": {
    "collapsed": false
   },
   "outputs": [],
   "source": [
    "import os, os.path, time\n",
    "import PIL\n",
    "import glob\n",
    "import cv2\n",
    "import numpy as np\n",
    "from PIL import Image"
   ]
  },
  {
   "cell_type": "code",
   "execution_count": 2,
   "metadata": {
    "collapsed": true
   },
   "outputs": [],
   "source": [
    "\n",
    "\n",
    "#number = 0\n",
    "def format_image(image):\n",
    "    #global number\n",
    "    #number += 1\n",
    "    if len(image.shape) > 2 and image.shape[2] == 3:\n",
    "        image = cv2.cvtColor(image, cv2.COLOR_BGR2GRAY)\n",
    "        clahe = cv2.createCLAHE(clipLimit=2.0, tileGridSize=(8, 8))\n",
    "        image = clahe.apply(image)\n",
    "    else:\n",
    "        image = cv2.imdecode(image, cv2.CV_LOAD_IMAGE_GRAYSCALE)\n",
    "    faces = cv2.CascadeClassifier('haarcascade_frontalface_default.xml').detectMultiScale(\n",
    "        image,\n",
    "        scaleFactor=1.3,\n",
    "        minNeighbors=5\n",
    "    )\n",
    "    \n",
    "    #print(\"number of faces in image(\",number,\") : \",len(faces))\n",
    "    if not len(faces) > 0:\n",
    "        return None\n",
    "    max_area_face = faces[0]\n",
    "    for face in faces:\n",
    "        if face[2] * face[3] > max_area_face[2] * max_area_face[3]:\n",
    "            max_area_face = face\n",
    "    # Chop image to face\n",
    "    face = max_area_face\n",
    "    image = image[face[1]:(face[1] + face[2]), face[0]:(face[0] + face[3])]\n",
    "    # Resize image to network size\n",
    "    try:\n",
    "        image = cv2.resize(image, (48, 48), interpolation=cv2.INTER_CUBIC)\n",
    "        return image\n",
    "    except Exception:\n",
    "        print(\"[+] Problem during resize\")\n",
    "        return None\n",
    "\n",
    "#filename = \"../RafD/front/Rafd090_01_Caucasian_female_angry_frontal.jpg\"\n",
    "#frame = cv2.imread(filename)\n",
    "#resultImage = format_image(frame)\n",
    "#print(\"pixel values\",resultImage)"
   ]
  },
  {
   "cell_type": "code",
   "execution_count": 3,
   "metadata": {
    "collapsed": true
   },
   "outputs": [],
   "source": [
    "emotions = {'angry' : 0, 'disgusted' : 1, 'fearful': 2, 'happy' : 3, 'sad' : 4 , 'surprised' : 5, 'neutral' : 6}\n",
    "image_train = []\n",
    "labels_train = []\n"
   ]
  },
  {
   "cell_type": "code",
   "execution_count": null,
   "metadata": {
    "collapsed": false
   },
   "outputs": [
    {
     "name": "stdout",
     "output_type": "stream",
     "text": [
      "Start\n"
     ]
    }
   ],
   "source": [
    "# 0=Angry, 1=Disgust, 2=Fear, 3=Happy, 4=Sad, 5=Surprise, 6=Neutral\n",
    "\n",
    "print(\"Start\")\n",
    "\n",
    "for filename in glob.glob('../RafD/front/*.jpg'):\n",
    "    #filename = \"../RafD/front/Rafd090_01_Caucasian_female_angry_frontal.jpg\"\n",
    "    frame = cv2.imread(filename)\n",
    "    resultImage = format_image(frame)\n",
    "    params = str(filename).split(\"_\")    \n",
    "    if emotions.get(params[4]) is not None:\n",
    "        labels_train.append(emotions.get(params[4]))\n",
    "        image_train.append(resultImage.reshape(1,2304))\n",
    "#np.savetxt(\"RafD/labels_train.csv\", labels_train,fmt='%i', delimiter=\",\")\n",
    "np.save(\"RafD/labels_train\", labels_train)\n",
    "np.save(\"RafD/images_train\",image_train)\n",
    "print(\"end of program\")"
   ]
  },
  {
   "cell_type": "markdown",
   "metadata": {},
   "source": [
    "print(\"Start\")\n",
    "im = Image.open('../RafD/front/Rafd090_01_Caucasian_female_angry_frontal.jpg')\n",
    "filename = \"Rafd090_01_Caucasian_female_angry_frontal\"\n",
    "params = str(filename).split(\"_\")   \n",
    "\n",
    "\n",
    "print(im.getpixel((0,0)))\n",
    "\n",
    "if emotions.get(params[4]) is not None:\n",
    "    print(emotions.get(params[4]))\n",
    "    x = 0\n",
    "    y = 0\n",
    "    image_pixels = []\n",
    "    for x in range(48):\n",
    "        for y in range(48):\n",
    "            image_pixels.append(im.getpixel((x,y)))\n",
    "    image_train.append(image_pixels)\n",
    "            \n",
    "print(len(image_pixels),image_train,\"end of program\")"
   ]
  },
  {
   "cell_type": "markdown",
   "metadata": {
    "collapsed": true
   },
   "source": [
    "#convertitn images to 48*48 and saving back to disk\n",
    "size = 48,48\n",
    "for filename in glob.glob('../RafD/front/*.jpg'):\n",
    "    im = Image.open(filename)\n",
    "    im.resize(size, PIL.Image.ANTIALIAS)\n",
    "    im = im.convert(\"L\")\n",
    "    im.save(filename)\n",
    "    \n",
    "    \n",
    "for file in os.listdir(\"../RafD/front\"):\n",
    "    if file.endswith(\".jpg\") or file.endswith(\".png\"):\n",
    "        params = str(file).split(\"_\")\n"
   ]
  }
 ],
 "metadata": {
  "kernelspec": {
   "display_name": "Python [default]",
   "language": "python",
   "name": "python3"
  },
  "language_info": {
   "codemirror_mode": {
    "name": "ipython",
    "version": 3
   },
   "file_extension": ".py",
   "mimetype": "text/x-python",
   "name": "python",
   "nbconvert_exporter": "python",
   "pygments_lexer": "ipython3",
   "version": "3.5.2"
  }
 },
 "nbformat": 4,
 "nbformat_minor": 2
}
